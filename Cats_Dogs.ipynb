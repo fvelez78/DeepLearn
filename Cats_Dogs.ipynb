{
 "cells": [
  {
   "cell_type": "markdown",
   "metadata": {},
   "source": [
    "## **RECONOCIMIENTO DE IMAGENES A COLOR**"
   ]
  },
  {
   "cell_type": "markdown",
   "metadata": {},
   "source": [
    "### **Fuente de datos**"
   ]
  },
  {
   "cell_type": "code",
   "execution_count": 16,
   "metadata": {},
   "outputs": [],
   "source": [
    "import os\n",
    "import zipfile\n",
    "\n",
    "local_zip='cats_and_dogs_small.zip'\n",
    "zip_ref=zipfile.ZipFile(local_zip,'r')\n",
    "zip_ref.extractall('D:\\Estadistica\\DeepLearn\\Imagenes')\n",
    "zip_ref.close()"
   ]
  },
  {
   "cell_type": "code",
   "execution_count": 17,
   "metadata": {},
   "outputs": [],
   "source": [
    "# Declaracionde rutas de los archivos\n",
    "\n",
    "Ruta_base='D:\\Estadistica\\DeepLearn\\Imagenes\\cats_and_dogs_small'\n",
    "\n",
    "R_Train=os.path.join(Ruta_base,'train')\n",
    "R_Valid=os.path.join(Ruta_base,'validation')\n",
    "R_Test=os.path.join(Ruta_base,'test')\n",
    "\n",
    "# Carpetas con las imagenes de entrenamiento\n",
    "\n",
    "R_Train_Cats=os.path.join(R_Train,'cats')\n",
    "R_Train_Dogs=os.path.join(R_Train,'dogs')\n",
    "\n",
    "# Carpetas con las imagenes de validacion\n",
    "\n",
    "R_Valid_Cats=os.path.join(R_Valid,'cats')\n",
    "R_Valid_Dogs=os.path.join(R_Valid,'dogs')\n",
    "\n",
    "# Carpetas con las imagenes de prueba\n",
    "\n",
    "R_Test_Cats=os.path.join(R_Test,'cats')\n",
    "R_Test_Dogs=os.path.join(R_Test,'dogs')"
   ]
  },
  {
   "cell_type": "code",
   "execution_count": 20,
   "metadata": {},
   "outputs": [
    {
     "name": "stdout",
     "output_type": "stream",
     "text": [
      "Verificando lectura de imagenes de entrenamiento...\n",
      "\n",
      "['cat.0.jpg', 'cat.1.jpg', 'cat.10.jpg', 'cat.100.jpg', 'cat.101.jpg'] \n",
      "\n",
      "['dog.0.jpg', 'dog.1.jpg', 'dog.10.jpg', 'dog.100.jpg', 'dog.101.jpg'] \n",
      "\n",
      "Verificando lectura de imagenes de validacion...\n",
      "\n",
      "['cat.0.jpg', 'cat.1.jpg', 'cat.10.jpg', 'cat.100.jpg', 'cat.101.jpg'] \n",
      "\n",
      "['dog.1000.jpg', 'dog.1001.jpg', 'dog.1002.jpg', 'dog.1003.jpg', 'dog.1004.jpg'] \n",
      "\n",
      "Verificando lectura de imagenes de prueba...\n",
      "\n",
      "['cat.1500.jpg', 'cat.1501.jpg', 'cat.1502.jpg', 'cat.1503.jpg', 'cat.1504.jpg'] \n",
      "\n",
      "['dog.1500.jpg', 'dog.1501.jpg', 'dog.1502.jpg', 'dog.1503.jpg', 'dog.1504.jpg'] \n",
      "\n"
     ]
    }
   ],
   "source": [
    "# Verificando lectura de archivos\n",
    "# Entrenamiento\n",
    "print('Verificando lectura de imagenes de entrenamiento...\\n')\n",
    "Train_cats_fnames=os.listdir(R_Train_Cats)\n",
    "print(Train_cats_fnames[:5],'\\n')\n",
    "\n",
    "Train_dogs_fnames=os.listdir(R_Train_Dogs)\n",
    "print(Train_dogs_fnames[:5],'\\n')\n",
    "\n",
    "# Validacion\n",
    "print('Verificando lectura de imagenes de validacion...\\n')\n",
    "Valid_cats_fnames=os.listdir(R_Valid_Cats)\n",
    "print(Train_cats_fnames[:5],'\\n')\n",
    "\n",
    "Valid_dogs_fnames=os.listdir(R_Valid_Dogs)\n",
    "print(Valid_dogs_fnames[:5],'\\n')\n",
    "\n",
    "# Prueba\n",
    "print('Verificando lectura de imagenes de prueba...\\n')\n",
    "Test_cats_fnames=os.listdir(R_Test_Cats)\n",
    "print(Test_cats_fnames[:5],'\\n')\n",
    "\n",
    "Test_dogs_fnames=os.listdir(R_Test_Dogs)\n",
    "print(Test_dogs_fnames[:5],'\\n')"
   ]
  },
  {
   "cell_type": "code",
   "execution_count": 21,
   "metadata": {},
   "outputs": [
    {
     "name": "stdout",
     "output_type": "stream",
     "text": [
      "Total de imagenes de entrenamiento\n",
      "\n",
      "Cats:  1000 \n",
      "\n",
      "Dogs:  1000 \n",
      "\n",
      "\n",
      "Total de imagenes de validacion\n",
      "\n",
      "Cats:  500 \n",
      "\n",
      "Dogs:  500 \n",
      "\n",
      "\n",
      "Total de imagenes de prueba\n",
      "\n",
      "Cats:  500 \n",
      "\n",
      "Dogs:  500 \n",
      "\n",
      "\n"
     ]
    }
   ],
   "source": [
    "# Verificacion de cantidad de archivos\n",
    "\n",
    "print('Total de imagenes de entrenamiento\\n')\n",
    "print('Cats: ',len(os.listdir(R_Train_Cats)),'\\n')\n",
    "print('Dogs: ',len(os.listdir(R_Train_Dogs)),'\\n\\n')\n",
    "\n",
    "print('Total de imagenes de validacion\\n')\n",
    "print('Cats: ',len(os.listdir(R_Valid_Cats)),'\\n')\n",
    "print('Dogs: ',len(os.listdir(R_Valid_Dogs)),'\\n\\n')\n",
    "\n",
    "print('Total de imagenes de prueba\\n')\n",
    "print('Cats: ',len(os.listdir(R_Test_Cats)),'\\n')\n",
    "print('Dogs: ',len(os.listdir(R_Test_Dogs)),'\\n\\n')\n",
    "\n"
   ]
  },
  {
   "cell_type": "markdown",
   "metadata": {},
   "source": [
    "### **Definición del modelo**"
   ]
  },
  {
   "cell_type": "code",
   "execution_count": 30,
   "metadata": {},
   "outputs": [],
   "source": [
    "# Importando librerias\n",
    "\n",
    "import tensorflow as tf\n",
    "from tensorflow.keras import Model\n",
    "\n",
    "from tensorflow.keras import Sequential\n",
    "from tensorflow.keras.layers import Conv2D, MaxPooling2D\n",
    "from tensorflow.keras.layers import Dense, Flatten\n"
   ]
  },
  {
   "cell_type": "code",
   "execution_count": null,
   "metadata": {},
   "outputs": [
    {
     "name": "stderr",
     "output_type": "stream",
     "text": [
      "c:\\Users\\Fernando\\AppData\\Local\\Programs\\Python\\Python311\\Lib\\site-packages\\keras\\src\\layers\\convolutional\\base_conv.py:107: UserWarning: Do not pass an `input_shape`/`input_dim` argument to a layer. When using Sequential models, prefer using an `Input(shape)` object as the first layer in the model instead.\n",
      "  super().__init__(activity_regularizer=activity_regularizer, **kwargs)\n"
     ]
    },
    {
     "data": {
      "text/html": [
       "<pre style=\"white-space:pre;overflow-x:auto;line-height:normal;font-family:Menlo,'DejaVu Sans Mono',consolas,'Courier New',monospace\"><span style=\"font-weight: bold\">Model: \"sequential_5\"</span>\n",
       "</pre>\n"
      ],
      "text/plain": [
       "\u001b[1mModel: \"sequential_5\"\u001b[0m\n"
      ]
     },
     "metadata": {},
     "output_type": "display_data"
    },
    {
     "data": {
      "text/html": [
       "<pre style=\"white-space:pre;overflow-x:auto;line-height:normal;font-family:Menlo,'DejaVu Sans Mono',consolas,'Courier New',monospace\">┏━━━━━━━━━━━━━━━━━━━━━━━━━━━━━━━━━┳━━━━━━━━━━━━━━━━━━━━━━━━┳━━━━━━━━━━━━━━━┓\n",
       "┃<span style=\"font-weight: bold\"> Layer (type)                    </span>┃<span style=\"font-weight: bold\"> Output Shape           </span>┃<span style=\"font-weight: bold\">       Param # </span>┃\n",
       "┡━━━━━━━━━━━━━━━━━━━━━━━━━━━━━━━━━╇━━━━━━━━━━━━━━━━━━━━━━━━╇━━━━━━━━━━━━━━━┩\n",
       "│ conv2d_10 (<span style=\"color: #0087ff; text-decoration-color: #0087ff\">Conv2D</span>)              │ (<span style=\"color: #00d7ff; text-decoration-color: #00d7ff\">None</span>, <span style=\"color: #00af00; text-decoration-color: #00af00\">148</span>, <span style=\"color: #00af00; text-decoration-color: #00af00\">148</span>, <span style=\"color: #00af00; text-decoration-color: #00af00\">32</span>)   │           <span style=\"color: #00af00; text-decoration-color: #00af00\">896</span> │\n",
       "├─────────────────────────────────┼────────────────────────┼───────────────┤\n",
       "│ max_pooling2d_10 (<span style=\"color: #0087ff; text-decoration-color: #0087ff\">MaxPooling2D</span>) │ (<span style=\"color: #00d7ff; text-decoration-color: #00d7ff\">None</span>, <span style=\"color: #00af00; text-decoration-color: #00af00\">74</span>, <span style=\"color: #00af00; text-decoration-color: #00af00\">74</span>, <span style=\"color: #00af00; text-decoration-color: #00af00\">32</span>)     │             <span style=\"color: #00af00; text-decoration-color: #00af00\">0</span> │\n",
       "├─────────────────────────────────┼────────────────────────┼───────────────┤\n",
       "│ conv2d_11 (<span style=\"color: #0087ff; text-decoration-color: #0087ff\">Conv2D</span>)              │ (<span style=\"color: #00d7ff; text-decoration-color: #00d7ff\">None</span>, <span style=\"color: #00af00; text-decoration-color: #00af00\">72</span>, <span style=\"color: #00af00; text-decoration-color: #00af00\">72</span>, <span style=\"color: #00af00; text-decoration-color: #00af00\">64</span>)     │        <span style=\"color: #00af00; text-decoration-color: #00af00\">18,496</span> │\n",
       "├─────────────────────────────────┼────────────────────────┼───────────────┤\n",
       "│ max_pooling2d_11 (<span style=\"color: #0087ff; text-decoration-color: #0087ff\">MaxPooling2D</span>) │ (<span style=\"color: #00d7ff; text-decoration-color: #00d7ff\">None</span>, <span style=\"color: #00af00; text-decoration-color: #00af00\">36</span>, <span style=\"color: #00af00; text-decoration-color: #00af00\">36</span>, <span style=\"color: #00af00; text-decoration-color: #00af00\">64</span>)     │             <span style=\"color: #00af00; text-decoration-color: #00af00\">0</span> │\n",
       "├─────────────────────────────────┼────────────────────────┼───────────────┤\n",
       "│ conv2d_12 (<span style=\"color: #0087ff; text-decoration-color: #0087ff\">Conv2D</span>)              │ (<span style=\"color: #00d7ff; text-decoration-color: #00d7ff\">None</span>, <span style=\"color: #00af00; text-decoration-color: #00af00\">34</span>, <span style=\"color: #00af00; text-decoration-color: #00af00\">34</span>, <span style=\"color: #00af00; text-decoration-color: #00af00\">128</span>)    │        <span style=\"color: #00af00; text-decoration-color: #00af00\">73,856</span> │\n",
       "├─────────────────────────────────┼────────────────────────┼───────────────┤\n",
       "│ max_pooling2d_12 (<span style=\"color: #0087ff; text-decoration-color: #0087ff\">MaxPooling2D</span>) │ (<span style=\"color: #00d7ff; text-decoration-color: #00d7ff\">None</span>, <span style=\"color: #00af00; text-decoration-color: #00af00\">17</span>, <span style=\"color: #00af00; text-decoration-color: #00af00\">17</span>, <span style=\"color: #00af00; text-decoration-color: #00af00\">128</span>)    │             <span style=\"color: #00af00; text-decoration-color: #00af00\">0</span> │\n",
       "├─────────────────────────────────┼────────────────────────┼───────────────┤\n",
       "│ conv2d_13 (<span style=\"color: #0087ff; text-decoration-color: #0087ff\">Conv2D</span>)              │ (<span style=\"color: #00d7ff; text-decoration-color: #00d7ff\">None</span>, <span style=\"color: #00af00; text-decoration-color: #00af00\">15</span>, <span style=\"color: #00af00; text-decoration-color: #00af00\">15</span>, <span style=\"color: #00af00; text-decoration-color: #00af00\">128</span>)    │       <span style=\"color: #00af00; text-decoration-color: #00af00\">147,584</span> │\n",
       "├─────────────────────────────────┼────────────────────────┼───────────────┤\n",
       "│ max_pooling2d_13 (<span style=\"color: #0087ff; text-decoration-color: #0087ff\">MaxPooling2D</span>) │ (<span style=\"color: #00d7ff; text-decoration-color: #00d7ff\">None</span>, <span style=\"color: #00af00; text-decoration-color: #00af00\">7</span>, <span style=\"color: #00af00; text-decoration-color: #00af00\">7</span>, <span style=\"color: #00af00; text-decoration-color: #00af00\">128</span>)      │             <span style=\"color: #00af00; text-decoration-color: #00af00\">0</span> │\n",
       "├─────────────────────────────────┼────────────────────────┼───────────────┤\n",
       "│ flatten_2 (<span style=\"color: #0087ff; text-decoration-color: #0087ff\">Flatten</span>)             │ (<span style=\"color: #00d7ff; text-decoration-color: #00d7ff\">None</span>, <span style=\"color: #00af00; text-decoration-color: #00af00\">6272</span>)           │             <span style=\"color: #00af00; text-decoration-color: #00af00\">0</span> │\n",
       "├─────────────────────────────────┼────────────────────────┼───────────────┤\n",
       "│ dense_4 (<span style=\"color: #0087ff; text-decoration-color: #0087ff\">Dense</span>)                 │ (<span style=\"color: #00d7ff; text-decoration-color: #00d7ff\">None</span>, <span style=\"color: #00af00; text-decoration-color: #00af00\">512</span>)            │     <span style=\"color: #00af00; text-decoration-color: #00af00\">3,211,776</span> │\n",
       "├─────────────────────────────────┼────────────────────────┼───────────────┤\n",
       "│ dense_5 (<span style=\"color: #0087ff; text-decoration-color: #0087ff\">Dense</span>)                 │ (<span style=\"color: #00d7ff; text-decoration-color: #00d7ff\">None</span>, <span style=\"color: #00af00; text-decoration-color: #00af00\">1</span>)              │           <span style=\"color: #00af00; text-decoration-color: #00af00\">513</span> │\n",
       "└─────────────────────────────────┴────────────────────────┴───────────────┘\n",
       "</pre>\n"
      ],
      "text/plain": [
       "┏━━━━━━━━━━━━━━━━━━━━━━━━━━━━━━━━━┳━━━━━━━━━━━━━━━━━━━━━━━━┳━━━━━━━━━━━━━━━┓\n",
       "┃\u001b[1m \u001b[0m\u001b[1mLayer (type)                   \u001b[0m\u001b[1m \u001b[0m┃\u001b[1m \u001b[0m\u001b[1mOutput Shape          \u001b[0m\u001b[1m \u001b[0m┃\u001b[1m \u001b[0m\u001b[1m      Param #\u001b[0m\u001b[1m \u001b[0m┃\n",
       "┡━━━━━━━━━━━━━━━━━━━━━━━━━━━━━━━━━╇━━━━━━━━━━━━━━━━━━━━━━━━╇━━━━━━━━━━━━━━━┩\n",
       "│ conv2d_10 (\u001b[38;5;33mConv2D\u001b[0m)              │ (\u001b[38;5;45mNone\u001b[0m, \u001b[38;5;34m148\u001b[0m, \u001b[38;5;34m148\u001b[0m, \u001b[38;5;34m32\u001b[0m)   │           \u001b[38;5;34m896\u001b[0m │\n",
       "├─────────────────────────────────┼────────────────────────┼───────────────┤\n",
       "│ max_pooling2d_10 (\u001b[38;5;33mMaxPooling2D\u001b[0m) │ (\u001b[38;5;45mNone\u001b[0m, \u001b[38;5;34m74\u001b[0m, \u001b[38;5;34m74\u001b[0m, \u001b[38;5;34m32\u001b[0m)     │             \u001b[38;5;34m0\u001b[0m │\n",
       "├─────────────────────────────────┼────────────────────────┼───────────────┤\n",
       "│ conv2d_11 (\u001b[38;5;33mConv2D\u001b[0m)              │ (\u001b[38;5;45mNone\u001b[0m, \u001b[38;5;34m72\u001b[0m, \u001b[38;5;34m72\u001b[0m, \u001b[38;5;34m64\u001b[0m)     │        \u001b[38;5;34m18,496\u001b[0m │\n",
       "├─────────────────────────────────┼────────────────────────┼───────────────┤\n",
       "│ max_pooling2d_11 (\u001b[38;5;33mMaxPooling2D\u001b[0m) │ (\u001b[38;5;45mNone\u001b[0m, \u001b[38;5;34m36\u001b[0m, \u001b[38;5;34m36\u001b[0m, \u001b[38;5;34m64\u001b[0m)     │             \u001b[38;5;34m0\u001b[0m │\n",
       "├─────────────────────────────────┼────────────────────────┼───────────────┤\n",
       "│ conv2d_12 (\u001b[38;5;33mConv2D\u001b[0m)              │ (\u001b[38;5;45mNone\u001b[0m, \u001b[38;5;34m34\u001b[0m, \u001b[38;5;34m34\u001b[0m, \u001b[38;5;34m128\u001b[0m)    │        \u001b[38;5;34m73,856\u001b[0m │\n",
       "├─────────────────────────────────┼────────────────────────┼───────────────┤\n",
       "│ max_pooling2d_12 (\u001b[38;5;33mMaxPooling2D\u001b[0m) │ (\u001b[38;5;45mNone\u001b[0m, \u001b[38;5;34m17\u001b[0m, \u001b[38;5;34m17\u001b[0m, \u001b[38;5;34m128\u001b[0m)    │             \u001b[38;5;34m0\u001b[0m │\n",
       "├─────────────────────────────────┼────────────────────────┼───────────────┤\n",
       "│ conv2d_13 (\u001b[38;5;33mConv2D\u001b[0m)              │ (\u001b[38;5;45mNone\u001b[0m, \u001b[38;5;34m15\u001b[0m, \u001b[38;5;34m15\u001b[0m, \u001b[38;5;34m128\u001b[0m)    │       \u001b[38;5;34m147,584\u001b[0m │\n",
       "├─────────────────────────────────┼────────────────────────┼───────────────┤\n",
       "│ max_pooling2d_13 (\u001b[38;5;33mMaxPooling2D\u001b[0m) │ (\u001b[38;5;45mNone\u001b[0m, \u001b[38;5;34m7\u001b[0m, \u001b[38;5;34m7\u001b[0m, \u001b[38;5;34m128\u001b[0m)      │             \u001b[38;5;34m0\u001b[0m │\n",
       "├─────────────────────────────────┼────────────────────────┼───────────────┤\n",
       "│ flatten_2 (\u001b[38;5;33mFlatten\u001b[0m)             │ (\u001b[38;5;45mNone\u001b[0m, \u001b[38;5;34m6272\u001b[0m)           │             \u001b[38;5;34m0\u001b[0m │\n",
       "├─────────────────────────────────┼────────────────────────┼───────────────┤\n",
       "│ dense_4 (\u001b[38;5;33mDense\u001b[0m)                 │ (\u001b[38;5;45mNone\u001b[0m, \u001b[38;5;34m512\u001b[0m)            │     \u001b[38;5;34m3,211,776\u001b[0m │\n",
       "├─────────────────────────────────┼────────────────────────┼───────────────┤\n",
       "│ dense_5 (\u001b[38;5;33mDense\u001b[0m)                 │ (\u001b[38;5;45mNone\u001b[0m, \u001b[38;5;34m1\u001b[0m)              │           \u001b[38;5;34m513\u001b[0m │\n",
       "└─────────────────────────────────┴────────────────────────┴───────────────┘\n"
      ]
     },
     "metadata": {},
     "output_type": "display_data"
    },
    {
     "data": {
      "text/html": [
       "<pre style=\"white-space:pre;overflow-x:auto;line-height:normal;font-family:Menlo,'DejaVu Sans Mono',consolas,'Courier New',monospace\"><span style=\"font-weight: bold\"> Total params: </span><span style=\"color: #00af00; text-decoration-color: #00af00\">3,453,121</span> (13.17 MB)\n",
       "</pre>\n"
      ],
      "text/plain": [
       "\u001b[1m Total params: \u001b[0m\u001b[38;5;34m3,453,121\u001b[0m (13.17 MB)\n"
      ]
     },
     "metadata": {},
     "output_type": "display_data"
    },
    {
     "data": {
      "text/html": [
       "<pre style=\"white-space:pre;overflow-x:auto;line-height:normal;font-family:Menlo,'DejaVu Sans Mono',consolas,'Courier New',monospace\"><span style=\"font-weight: bold\"> Trainable params: </span><span style=\"color: #00af00; text-decoration-color: #00af00\">3,453,121</span> (13.17 MB)\n",
       "</pre>\n"
      ],
      "text/plain": [
       "\u001b[1m Trainable params: \u001b[0m\u001b[38;5;34m3,453,121\u001b[0m (13.17 MB)\n"
      ]
     },
     "metadata": {},
     "output_type": "display_data"
    },
    {
     "data": {
      "text/html": [
       "<pre style=\"white-space:pre;overflow-x:auto;line-height:normal;font-family:Menlo,'DejaVu Sans Mono',consolas,'Courier New',monospace\"><span style=\"font-weight: bold\"> Non-trainable params: </span><span style=\"color: #00af00; text-decoration-color: #00af00\">0</span> (0.00 B)\n",
       "</pre>\n"
      ],
      "text/plain": [
       "\u001b[1m Non-trainable params: \u001b[0m\u001b[38;5;34m0\u001b[0m (0.00 B)\n"
      ]
     },
     "metadata": {},
     "output_type": "display_data"
    }
   ],
   "source": [
    "# Definicion del modelo\n",
    "\n",
    "Modelo01=Sequential()\n",
    "Modelo01.add(Conv2D(32,(3,3),activation='relu',input_shape=(150,150,3)))\n",
    "Modelo01.add(MaxPooling2D(2,2))\n",
    "Modelo01.add(Conv2D(64,(3,3),activation='relu'))\n",
    "Modelo01.add(MaxPooling2D(2,2))\n",
    "Modelo01.add(Conv2D(128,(3,3),activation='relu'))\n",
    "Modelo01.add(MaxPooling2D(2,2))\n",
    "Modelo01.add(Conv2D(128,(3,3),activation='relu'))\n",
    "Modelo01.add(MaxPooling2D(2,2))\n",
    "Modelo01.add(Flatten())\n",
    "Modelo01.add(Dense(512,activation='relu'))\n",
    "Modelo01.add(Dense(1,activation='sigmoid'))\n",
    "\n",
    "Modelo01.summary()"
   ]
  },
  {
   "cell_type": "code",
   "execution_count": 36,
   "metadata": {},
   "outputs": [],
   "source": [
    "# Configuracion del modelo\n",
    "\n",
    "from tensorflow.keras.optimizers import RMSprop\n",
    "\n",
    "Modelo01.compile(optimizer=RMSprop(learning_rate =1e-4),loss='binary_crossentropy',metrics=['acc'])"
   ]
  },
  {
   "cell_type": "markdown",
   "metadata": {},
   "source": [
    "### **Preprocesado**"
   ]
  },
  {
   "cell_type": "code",
   "execution_count": 39,
   "metadata": {},
   "outputs": [
    {
     "name": "stdout",
     "output_type": "stream",
     "text": [
      "Found 2000 images belonging to 2 classes.\n",
      "Found 1000 images belonging to 2 classes.\n",
      "Found 1000 images belonging to 2 classes.\n"
     ]
    }
   ],
   "source": [
    "from tensorflow.keras.preprocessing.image import ImageDataGenerator\n",
    "\n",
    "# Se crean las instancias de los generadores necesarios para el preprocesamiento\n",
    "Train_dt=ImageDataGenerator(rescale=1.0/255.)\n",
    "Valid_dt=ImageDataGenerator(rescale=1.0/255.)\n",
    "Test_dt=ImageDataGenerator(rescale=1.0/255.)\n",
    "\n",
    "# Aplicacion de las instancias a las imagenes\n",
    "\n",
    "Train_G=Train_dt.flow_from_directory(R_Train,batch_size=20,class_mode='binary',target_size=(150,150))\n",
    "\n",
    "Valid_G=Valid_dt.flow_from_directory(R_Valid,batch_size=20,class_mode='binary',target_size=(150,150))\n",
    "\n",
    "Test_G=Test_dt.flow_from_directory(R_Test,batch_size=20,class_mode='binary',target_size=(150,150))"
   ]
  },
  {
   "cell_type": "markdown",
   "metadata": {},
   "source": [
    "### **Entrenamiento del Modelo**"
   ]
  },
  {
   "cell_type": "code",
   "execution_count": 41,
   "metadata": {},
   "outputs": [
    {
     "name": "stdout",
     "output_type": "stream",
     "text": [
      "Epoch 1/50\n",
      "100/100 - 36s - 356ms/step - acc: 0.7840 - loss: 0.4540 - val_acc: 0.6950 - val_loss: 0.5645\n",
      "Epoch 2/50\n",
      "100/100 - 35s - 348ms/step - acc: 0.7965 - loss: 0.4356 - val_acc: 0.7090 - val_loss: 0.5522\n",
      "Epoch 3/50\n",
      "100/100 - 35s - 352ms/step - acc: 0.8095 - loss: 0.4156 - val_acc: 0.6960 - val_loss: 0.5795\n",
      "Epoch 4/50\n",
      "100/100 - 35s - 353ms/step - acc: 0.8295 - loss: 0.3857 - val_acc: 0.7140 - val_loss: 0.5823\n",
      "Epoch 5/50\n",
      "100/100 - 35s - 345ms/step - acc: 0.8400 - loss: 0.3719 - val_acc: 0.6880 - val_loss: 0.6939\n",
      "Epoch 6/50\n",
      "100/100 - 35s - 348ms/step - acc: 0.8500 - loss: 0.3527 - val_acc: 0.7200 - val_loss: 0.6094\n",
      "Epoch 7/50\n",
      "100/100 - 35s - 348ms/step - acc: 0.8565 - loss: 0.3350 - val_acc: 0.7200 - val_loss: 0.5753\n",
      "Epoch 8/50\n",
      "100/100 - 35s - 349ms/step - acc: 0.8730 - loss: 0.3052 - val_acc: 0.7340 - val_loss: 0.5559\n",
      "Epoch 9/50\n",
      "100/100 - 35s - 349ms/step - acc: 0.8775 - loss: 0.2910 - val_acc: 0.7460 - val_loss: 0.5536\n",
      "Epoch 10/50\n",
      "100/100 - 35s - 351ms/step - acc: 0.8870 - loss: 0.2703 - val_acc: 0.7380 - val_loss: 0.5728\n",
      "Epoch 11/50\n",
      "100/100 - 35s - 351ms/step - acc: 0.9035 - loss: 0.2492 - val_acc: 0.7500 - val_loss: 0.5663\n",
      "Epoch 12/50\n",
      "100/100 - 35s - 348ms/step - acc: 0.9135 - loss: 0.2305 - val_acc: 0.7460 - val_loss: 0.5823\n",
      "Epoch 13/50\n",
      "100/100 - 35s - 349ms/step - acc: 0.9285 - loss: 0.2030 - val_acc: 0.7370 - val_loss: 0.6516\n",
      "Epoch 14/50\n",
      "100/100 - 35s - 352ms/step - acc: 0.9230 - loss: 0.1982 - val_acc: 0.7460 - val_loss: 0.6104\n",
      "Epoch 15/50\n",
      "100/100 - 35s - 346ms/step - acc: 0.9395 - loss: 0.1666 - val_acc: 0.7110 - val_loss: 0.7285\n",
      "Epoch 16/50\n",
      "100/100 - 35s - 348ms/step - acc: 0.9480 - loss: 0.1547 - val_acc: 0.7250 - val_loss: 0.6785\n",
      "Epoch 17/50\n",
      "100/100 - 35s - 348ms/step - acc: 0.9525 - loss: 0.1421 - val_acc: 0.7380 - val_loss: 0.6709\n",
      "Epoch 18/50\n",
      "100/100 - 36s - 358ms/step - acc: 0.9610 - loss: 0.1227 - val_acc: 0.7310 - val_loss: 0.7725\n",
      "Epoch 19/50\n",
      "100/100 - 36s - 356ms/step - acc: 0.9630 - loss: 0.1132 - val_acc: 0.7200 - val_loss: 0.7608\n",
      "Epoch 20/50\n",
      "100/100 - 35s - 352ms/step - acc: 0.9720 - loss: 0.0909 - val_acc: 0.7380 - val_loss: 0.7405\n",
      "Epoch 21/50\n",
      "100/100 - 35s - 354ms/step - acc: 0.9785 - loss: 0.0872 - val_acc: 0.7310 - val_loss: 0.8041\n",
      "Epoch 22/50\n",
      "100/100 - 35s - 354ms/step - acc: 0.9795 - loss: 0.0722 - val_acc: 0.7430 - val_loss: 0.8290\n",
      "Epoch 23/50\n",
      "100/100 - 35s - 350ms/step - acc: 0.9840 - loss: 0.0606 - val_acc: 0.7380 - val_loss: 0.8573\n",
      "Epoch 24/50\n",
      "100/100 - 37s - 371ms/step - acc: 0.9795 - loss: 0.0620 - val_acc: 0.7390 - val_loss: 0.9084\n",
      "Epoch 25/50\n",
      "100/100 - 36s - 356ms/step - acc: 0.9895 - loss: 0.0465 - val_acc: 0.7160 - val_loss: 1.1544\n",
      "Epoch 26/50\n",
      "100/100 - 35s - 354ms/step - acc: 0.9850 - loss: 0.0526 - val_acc: 0.7070 - val_loss: 1.0622\n",
      "Epoch 27/50\n",
      "100/100 - 34s - 337ms/step - acc: 0.9910 - loss: 0.0388 - val_acc: 0.7370 - val_loss: 1.0382\n",
      "Epoch 28/50\n",
      "100/100 - 33s - 334ms/step - acc: 0.9960 - loss: 0.0251 - val_acc: 0.7460 - val_loss: 1.0614\n",
      "Epoch 29/50\n",
      "100/100 - 33s - 334ms/step - acc: 0.9965 - loss: 0.0221 - val_acc: 0.7400 - val_loss: 1.0799\n",
      "Epoch 30/50\n",
      "100/100 - 33s - 333ms/step - acc: 0.9925 - loss: 0.0273 - val_acc: 0.7450 - val_loss: 1.0781\n",
      "Epoch 31/50\n",
      "100/100 - 33s - 331ms/step - acc: 0.9900 - loss: 0.0279 - val_acc: 0.7460 - val_loss: 1.0928\n",
      "Epoch 32/50\n",
      "100/100 - 34s - 342ms/step - acc: 0.9935 - loss: 0.0261 - val_acc: 0.7320 - val_loss: 1.0808\n",
      "Epoch 33/50\n",
      "100/100 - 34s - 340ms/step - acc: 0.9955 - loss: 0.0167 - val_acc: 0.7290 - val_loss: 1.1696\n",
      "Epoch 34/50\n",
      "100/100 - 34s - 340ms/step - acc: 0.9960 - loss: 0.0163 - val_acc: 0.7320 - val_loss: 1.1890\n",
      "Epoch 35/50\n",
      "100/100 - 34s - 337ms/step - acc: 0.9960 - loss: 0.0139 - val_acc: 0.7390 - val_loss: 1.2087\n",
      "Epoch 36/50\n",
      "100/100 - 33s - 328ms/step - acc: 0.9945 - loss: 0.0164 - val_acc: 0.7220 - val_loss: 1.3255\n",
      "Epoch 37/50\n",
      "100/100 - 32s - 321ms/step - acc: 0.9990 - loss: 0.0053 - val_acc: 0.7180 - val_loss: 1.5721\n",
      "Epoch 38/50\n",
      "100/100 - 33s - 328ms/step - acc: 0.9950 - loss: 0.0193 - val_acc: 0.7250 - val_loss: 1.4228\n",
      "Epoch 39/50\n",
      "100/100 - 33s - 333ms/step - acc: 0.9945 - loss: 0.0177 - val_acc: 0.7230 - val_loss: 1.3774\n",
      "Epoch 40/50\n",
      "100/100 - 35s - 347ms/step - acc: 0.9965 - loss: 0.0104 - val_acc: 0.7340 - val_loss: 1.4333\n",
      "Epoch 41/50\n",
      "100/100 - 34s - 343ms/step - acc: 1.0000 - loss: 0.0012 - val_acc: 0.7330 - val_loss: 1.5175\n",
      "Epoch 42/50\n",
      "100/100 - 33s - 333ms/step - acc: 0.9985 - loss: 0.0080 - val_acc: 0.7330 - val_loss: 1.5828\n",
      "Epoch 43/50\n",
      "100/100 - 35s - 347ms/step - acc: 0.9975 - loss: 0.0096 - val_acc: 0.7300 - val_loss: 1.5434\n",
      "Epoch 44/50\n",
      "100/100 - 34s - 337ms/step - acc: 1.0000 - loss: 5.5826e-04 - val_acc: 0.7370 - val_loss: 1.6506\n",
      "Epoch 45/50\n",
      "100/100 - 32s - 318ms/step - acc: 0.9980 - loss: 0.0135 - val_acc: 0.7330 - val_loss: 1.6361\n",
      "Epoch 46/50\n",
      "100/100 - 32s - 319ms/step - acc: 1.0000 - loss: 6.0013e-04 - val_acc: 0.7190 - val_loss: 1.7379\n",
      "Epoch 47/50\n",
      "100/100 - 32s - 318ms/step - acc: 1.0000 - loss: 2.5193e-04 - val_acc: 0.7290 - val_loss: 1.8183\n",
      "Epoch 48/50\n",
      "100/100 - 35s - 347ms/step - acc: 0.9965 - loss: 0.0090 - val_acc: 0.7350 - val_loss: 1.8332\n",
      "Epoch 49/50\n",
      "100/100 - 35s - 350ms/step - acc: 1.0000 - loss: 2.5749e-04 - val_acc: 0.7380 - val_loss: 1.7972\n",
      "Epoch 50/50\n",
      "100/100 - 37s - 368ms/step - acc: 1.0000 - loss: 1.3600e-04 - val_acc: 0.7380 - val_loss: 1.8311\n"
     ]
    }
   ],
   "source": [
    "HST=Modelo01.fit(Train_G,steps_per_epoch=100,epochs=50,\n",
    "validation_data=Valid_G,validation_steps=50,verbose=2)"
   ]
  },
  {
   "cell_type": "markdown",
   "metadata": {},
   "source": [
    "### **RESULTADOS**"
   ]
  },
  {
   "cell_type": "code",
   "execution_count": 42,
   "metadata": {},
   "outputs": [
    {
     "data": {
      "text/plain": [
       "<Figure size 640x480 with 0 Axes>"
      ]
     },
     "execution_count": 42,
     "metadata": {},
     "output_type": "execute_result"
    },
    {
     "data": {
      "image/png": "[encoded data removed]",
      "text/plain": [
       "<Figure size 640x480 with 1 Axes>"
      ]
     },
     "metadata": {},
     "output_type": "display_data"
    },
    {
     "data": {
      "image/png": "[encoded data removed]",
      "text/plain": [
       "<Figure size 640x480 with 1 Axes>"
      ]
     },
     "metadata": {},
     "output_type": "display_data"
    },
    {
     "data": {
      "text/plain": [
       "<Figure size 640x480 with 0 Axes>"
      ]
     },
     "metadata": {},
     "output_type": "display_data"
    }
   ],
   "source": [
    "# Visualizacion de resultados\n",
    "import matplotlib.pyplot as plt\n",
    "\n",
    "acc=HST.history['acc']\n",
    "loss=HST.history['loss']\n",
    "val_acc=HST.history['val_acc']\n",
    "val_loss=HST.history['val_loss']\n",
    "\n",
    "epocas=range(1,len(acc)+1,1)\n",
    "\n",
    "plt.plot(epocas,acc,'r--',label='Precisión en el entrenamiento')\n",
    "plt.plot(epocas,val_acc,'b',label='Precisión en la validación')\n",
    "plt.title('PRECISIÓN EN ENTRENAMIENTO Y VALIDACIÓN')\n",
    "plt.ylabel('Precisión')\n",
    "plt.xlabel('Epoca')\n",
    "plt.legend()\n",
    "plt.figure()\n",
    "\n",
    "plt.plot(epocas,loss,'r--',label='Función de perdida en el entrenamiento')\n",
    "plt.plot(epocas,val_loss,'b',label='Función de perdida en la validación')\n",
    "plt.title('FUNCIÓN DE PERDIDA EN ENTRENAMIENTO Y VALIDACIÓN')\n",
    "plt.ylabel('Perdida')\n",
    "plt.xlabel('Epoca')\n",
    "plt.legend()\n",
    "plt.figure()"
   ]
  },
  {
   "cell_type": "code",
   "execution_count": 45,
   "metadata": {},
   "outputs": [
    {
     "name": "stdout",
     "output_type": "stream",
     "text": [
      "\u001b[1m50/50\u001b[0m \u001b[32m━━━━━━━━━━━━━━━━━━━━\u001b[0m\u001b[37m\u001b[0m \u001b[1m5s\u001b[0m 92ms/step - acc: 0.7319 - loss: 1.9563\n",
      "Precisión en la Prueba:  0.7269999980926514\n"
     ]
    }
   ],
   "source": [
    "# Resultado en el conjunto de test\n",
    "\n",
    "test_loss, test_acc=Modelo01.evaluate(Test_G)\n",
    "print('Precisión en la Prueba: ',test_acc)"
   ]
  }
 ],
 "metadata": {
  "kernelspec": {
   "display_name": "Python 3",
   "language": "python",
   "name": "python3"
  },
  "language_info": {
   "codemirror_mode": {
    "name": "ipython",
    "version": 3
   },
   "file_extension": ".py",
   "mimetype": "text/x-python",
   "name": "python",
   "nbconvert_exporter": "python",
   "pygments_lexer": "ipython3",
   "version": "3.11.1"
  }
 },
 "nbformat": 4,
 "nbformat_minor": 2
}
