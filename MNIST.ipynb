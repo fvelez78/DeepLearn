{
 "cells": [
  {
   "cell_type": "markdown",
   "metadata": {},
   "source": [
    "# **DEEP LEARNING**"
   ]
  },
  {
   "cell_type": "markdown",
   "metadata": {},
   "source": [
    "**Ejemplos del texto de Python Deep Learning de Jordi Torres**"
   ]
  },
  {
   "cell_type": "markdown",
   "metadata": {},
   "source": [
    "## **EJEMPLO RECONOCIMIENTO DE DIGITOS**\n",
    "\n",
    "Este ejemplo básico de iniciación analogo al *Hola mundo* de la programación emplea una base bien conocidad de imagenes estandarizadas para ilustrar y facilitar la adquisicion de los principales conceptos asociados a las redes neuronales.\n",
    "\n",
    "Para ello se emplea la base de imagenes disponible en la libreria **KERAS**."
   ]
  },
  {
   "cell_type": "code",
   "execution_count": 17,
   "metadata": {},
   "outputs": [],
   "source": [
    "# Carga de librerias requeridas\n",
    "import numpy as np\n",
    "import tensorflow as tf\n",
    "import matplotlib.pyplot as plt"
   ]
  },
  {
   "cell_type": "code",
   "execution_count": 22,
   "metadata": {},
   "outputs": [],
   "source": [
    "# Uso del ejemplo MNIST cargado como ejemplo en la libreria TensorFlow\n",
    "mnist=tf.keras.datasets.mnist\n",
    "\n",
    "(x_train,y_train), (x_test,y_test)=mnist.load_data()"
   ]
  },
  {
   "cell_type": "markdown",
   "metadata": {},
   "source": [
    "VIsualizando una imagen cualquiera se tiene:"
   ]
  },
  {
   "cell_type": "code",
   "execution_count": 19,
   "metadata": {},
   "outputs": [
    {
     "name": "stdout",
     "output_type": "stream",
     "text": [
      "La etiqueta de la imagen es:  3\n"
     ]
    },
    {
     "data": {
      "image/png": "[encoded data removed]",
      "text/plain": [
       "<Figure size 640x480 with 1 Axes>"
      ]
     },
     "metadata": {},
     "output_type": "display_data"
    }
   ],
   "source": [
    "# Visualizacion de una imagen y su correspondiente etiqueta\n",
    "i=12\n",
    "plt.imshow(x_train[i],cmap=plt.cm.binary)\n",
    "print('La etiqueta de la imagen es: ',y_train[i])"
   ]
  },
  {
   "cell_type": "markdown",
   "metadata": {},
   "source": [
    "Las caracteristicas del arreglo de entrenamiento *x_train* se detalla a continuacion, donde la dimensión del arreglo es 3 (tensor), la forma muestra que se tienen 60000 imagenes de 28 por 28 pixeles y finalmente el tipo de dato corresponde a enteros de 8 bits."
   ]
  },
  {
   "cell_type": "code",
   "execution_count": 20,
   "metadata": {},
   "outputs": [
    {
     "name": "stdout",
     "output_type": "stream",
     "text": [
      "3\n",
      "(60000, 28, 28)\n",
      "uint8\n"
     ]
    }
   ],
   "source": [
    "# Dimension del arreglo\n",
    "print(x_train.ndim)\n",
    "\n",
    "# Forma o tamaño del arreglo\n",
    "print(x_train.shape)\n",
    "\n",
    "# Tipo de datos\n",
    "print(x_train.dtype)"
   ]
  },
  {
   "cell_type": "markdown",
   "metadata": {},
   "source": [
    "### **Preprocesado**\n",
    "\n",
    "Generalmente las caracteristicas que serviran de entrada a una ***Red Neuronal*** se preprocesan a fin de evitar varios problemas y facilitar su procesamiento. Particularmente, la escala entre diferentes caracteristicas puede ser muy diferente lo cual puede afectar de manera importante la estimación de los pesos en la red.\n",
    "Los principales o más habituales pasos de preprocesamiento son:\n",
    "\n",
    " - **Vectorización** : Permite manejar los datos de las caracteristicas de manera más simple para la red, pues se reduce la dimensión siendo mas facil recorrer todos los valores con un eje en lugar de 2 o mas.\n",
    " - **Normalización** : Facilita la convergencia en el procesode entrenamiento, generalmente se normaliza a valores entre 0 y 1.\n",
    "\n",
    "Para el caso del ejemplo los valores varian entre 0 y 255, de tal manera que se normalizan a valores entre cero  y uno así:\n"
   ]
  },
  {
   "cell_type": "code",
   "execution_count": 24,
   "metadata": {},
   "outputs": [
    {
     "name": "stdout",
     "output_type": "stream",
     "text": [
      "[[ 96. 252. 252. 252. 252. 217.  29.   0.  37. 252. 252.  60.]\n",
      " [181. 252. 252. 220. 167.  30.   0.   0.  77. 252. 252.  60.]\n",
      " [ 26. 128.  58.  22.   0.   0.   0.   0. 100. 252. 252.  60.]\n",
      " [  0.   0.   0.   0.   0.   0.   0.   0. 157. 252. 252.  60.]\n",
      " [  0.   0.   0.   0. 110. 121. 122. 121. 202. 252. 194.   3.]\n",
      " [  0.  10.  53. 179. 253. 253. 255. 253. 253. 228.  35.   0.]\n",
      " [ 54. 227. 252. 243. 228. 170. 242. 252. 252. 231. 117.   6.]\n",
      " [252. 252. 125.  59.   0.  18. 208. 252. 252. 252. 252.  87.]\n",
      " [252. 180.  16.   0.  21. 203. 253. 247. 129. 173. 252. 252.]\n",
      " [106.  17.   0.  53. 200. 252. 216.  65.   0.  14.  72. 163.]\n",
      " [ 18.  73. 170. 244. 252. 126.  29.   0.   0.   0.   0.   0.]\n",
      " [216. 252. 252. 252. 124.   3.   0.   0.   0.   0.   0.   0.]]\n",
      "[[0.3764706  0.9882353  0.9882353  0.9882353  0.9882353  0.8509804  0.11372549 0.         0.14509805 0.9882353  0.9882353  0.23529412]\n",
      " [0.70980394 0.9882353  0.9882353  0.8627451  0.654902   0.11764706 0.         0.         0.3019608  0.9882353  0.9882353  0.23529412]\n",
      " [0.10196079 0.5019608  0.22745098 0.08627451 0.         0.         0.         0.         0.39215687 0.9882353  0.9882353  0.23529412]\n",
      " [0.         0.         0.         0.         0.         0.         0.         0.         0.6156863  0.9882353  0.9882353  0.23529412]\n",
      " [0.         0.         0.         0.         0.43137255 0.4745098  0.47843137 0.4745098  0.7921569  0.9882353  0.7607843  0.01176471]\n",
      " [0.         0.03921569 0.20784314 0.7019608  0.99215686 0.99215686 1.         0.99215686 0.99215686 0.89411765 0.13725491 0.        ]\n",
      " [0.21176471 0.8901961  0.9882353  0.9529412  0.89411765 0.6666667  0.9490196  0.9882353  0.9882353  0.90588236 0.45882353 0.02352941]\n",
      " [0.9882353  0.9882353  0.49019608 0.23137255 0.         0.07058824 0.8156863  0.9882353  0.9882353  0.9882353  0.9882353  0.34117648]\n",
      " [0.9882353  0.7058824  0.0627451  0.         0.08235294 0.79607844 0.99215686 0.96862745 0.5058824  0.6784314  0.9882353  0.9882353 ]\n",
      " [0.41568628 0.06666667 0.         0.20784314 0.78431374 0.9882353  0.84705883 0.25490198 0.         0.05490196 0.28235295 0.6392157 ]\n",
      " [0.07058824 0.28627452 0.6666667  0.95686275 0.9882353  0.49411765 0.11372549 0.         0.         0.         0.         0.        ]\n",
      " [0.84705883 0.9882353  0.9882353  0.9882353  0.4862745  0.01176471 0.         0.         0.         0.         0.         0.        ]]\n"
     ]
    }
   ],
   "source": [
    "# Antes de la normalizacion\n",
    "print(x_train[5,9:-7,9:-7])\n",
    "\n",
    "# Aplicando la normalizacion\n",
    "x_train=x_train.astype('float32')\n",
    "x_test=x_test.astype('float32')\n",
    "\n",
    "x_train_N=x_train/255\n",
    "x_test_N=x_test/255\n",
    "\n",
    "# Despues de la normalización\n",
    "print(x_train_N[5,9:-7,9:-7])\n"
   ]
  },
  {
   "cell_type": "markdown",
   "metadata": {},
   "source": [
    "Finalmente la vectorización se obtiene usando ***reshape*** sobre los elementos de las imagenes tanto para el conjunto de entrenamiento como para el de prueba."
   ]
  },
  {
   "cell_type": "code",
   "execution_count": 29,
   "metadata": {},
   "outputs": [
    {
     "name": "stdout",
     "output_type": "stream",
     "text": [
      "Nuevo tamaño del arreglo de entrenamiento:  (60000, 784)\n",
      "Nuevo tamaño del arreglo de prueba:  (10000, 784)\n"
     ]
    }
   ],
   "source": [
    "# Aplicando la vectorización\n",
    "x_train_V=x_train_N.reshape(60000,784)\n",
    "x_test_V=x_test_N.reshape(10000,784)\n",
    "\n",
    "# Verificando el tamaño final de los arreglos\n",
    "print('Nuevo tamaño del arreglo de entrenamiento: ',x_train_V.shape)\n",
    "print('Nuevo tamaño del arreglo de prueba: ',x_test_V.shape)"
   ]
  },
  {
   "cell_type": "markdown",
   "metadata": {},
   "source": [
    "**Etiquetas**\n",
    "\n",
    "Dado que en este caso se tienen 10 categorias para la clasificación de las imagenes, entonces se suele emplear (porque? aun no lo se) varaibles *dummy* para identificar la posición de la categoria en el vector con un 1 y ceros para los demas valores. Esto se denomina ***Codificación one-hot*** y se aplica a partir del modulo *utils* de *keras* así:\n"
   ]
  },
  {
   "cell_type": "code",
   "execution_count": 30,
   "metadata": {},
   "outputs": [],
   "source": [
    "# Uso del modulo to_categorical de keras\n",
    "from tensorflow.keras.utils import to_categorical"
   ]
  },
  {
   "cell_type": "code",
   "execution_count": 32,
   "metadata": {},
   "outputs": [
    {
     "name": "stdout",
     "output_type": "stream",
     "text": [
      "Valor de la etiqueta 5 en el set de entrenamiento: 2\n",
      "Valor de la etiqueta 5 en el set de entrenamiento luego de la transformación: [0. 0. 1. 0. 0. 0. 0. 0. 0. 0.]\n",
      "Tamaño del arreglo de etiquetas: (60000, 10)\n"
     ]
    }
   ],
   "source": [
    "# Valores de etiquetas antes de transformacion\n",
    "\n",
    "print('Valor de la etiqueta 5 en el set de entrenamiento:', y_train[5])\n",
    "\n",
    "y_train_OS=to_categorical(y_train,num_classes=10)\n",
    "y_test_OS=to_categorical(y_test,num_classes=10)\n",
    "\n",
    "print('Valor de la etiqueta 5 en el set de entrenamiento luego de la transformación:', y_train_OS[5])\n",
    "\n",
    "print('Tamaño del arreglo de etiquetas:', y_train_OS.shape)"
   ]
  },
  {
   "cell_type": "markdown",
   "metadata": {},
   "source": []
  }
 ],
 "metadata": {
  "language_info": {
   "name": "python"
  }
 },
 "nbformat": 4,
 "nbformat_minor": 2
}
